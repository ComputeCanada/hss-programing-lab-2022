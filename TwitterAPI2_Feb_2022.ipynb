{
 "cells": [
  {
   "cell_type": "code",
   "execution_count": null,
   "metadata": {},
   "outputs": [],
   "source": [
    "import requests\n",
    "import os\n",
    "import json\n",
    "import pandas as pd"
   ]
  },
  {
   "cell_type": "code",
   "execution_count": null,
   "metadata": {},
   "outputs": [],
   "source": [
    "#This is the cell where you need to set up your authentication, so the API doesn't block you\n",
    "##C'est la cellule où vous devez configurer votre authentification pour l'API \n",
    "os.environ['BEARER_TOKEN'] = 'putyourbearertokeninhere|placezvotrejetonici'\n",
    "bearer_token = os.environ.get(\"BEARER_TOKEN\")"
   ]
  },
  {
   "cell_type": "code",
   "execution_count": null,
   "metadata": {},
   "outputs": [],
   "source": [
    "#this is the cell where you put in your endpoint and figure out what fields you want to query. The current endpoint setting is to search recent tweets\n",
    "#c'est la cellule où vous mettez votre point de terminaison et déterminez les champs que vous souhaitez interroger. Le paramètre actuel du point de terminaison consiste à rechercher les tweets récents\n",
    "search_url = \"https://api.twitter.com/2/tweets/search/recent\"\n",
    "\n",
    "# Optional params|les paramètre optionnels: start_time,end_time,since_id,until_id,max_results,next_token,\n",
    "# expansions|extensions ,tweet.fields,media.fields,poll.fields,place.fields,user.fields\n",
    "query_params = {'query': '#WorldCupQualifiers #Canada (ice OR cold OR frozen OR snow OR shiver OR freeze OR freezing OR weather) ',\n",
    "'tweet.fields': 'author_id', 'max_results': 50}\n",
    "\n",
    "output_file = \"C:/Users/lydia/Documents/ACENET/tweets2.csv\"  #put the file name and path where you want to save your tweets to here"
   ]
  },
  {
   "cell_type": "code",
   "execution_count": null,
   "metadata": {},
   "outputs": [],
   "source": [
    "#this is the part of the program that makes everything work: don't mess with this\n",
    "#c'est la partie du programme qui fait que tout fonctionne : ne le changez pas\n",
    "def bearer_oauth(r):\n",
    "    \"\"\"\n",
    "    Method required by bearer token authentication.\n",
    "    \"\"\"\n",
    "\n",
    "    r.headers[\"Authorization\"] = f\"Bearer {bearer_token}\"\n",
    "    r.headers[\"User-Agent\"] = \"v2RecentSearchPython\"\n",
    "    return r\n",
    "\n",
    "def connect_to_endpoint(url, params):\n",
    "    response = requests.get(url, auth=bearer_oauth, params=params)\n",
    "    print(response.status_code)\n",
    "    if response.status_code != 200:\n",
    "        raise Exception(response.status_code, response.text)\n",
    "    return response.json()\n",
    "\n",
    "\n",
    "def main():\n",
    "    json_response = connect_to_endpoint(search_url, query_params)\n",
    "    print(json.dumps(json_response, indent=4, sort_keys=True))\n",
    "    df = pd.DataFrame.from_dict(json_response[\"data\"])\n",
    "    df.to_csv(output_file)\n",
    "\n",
    "\n",
    "if __name__ == \"__main__\":\n",
    "    main()"
   ]
  }
 ],
 "metadata": {
  "kernelspec": {
   "display_name": "Python 3",
   "language": "python",
   "name": "python3"
  },
  "language_info": {
   "codemirror_mode": {
    "name": "ipython",
    "version": 3
   },
   "file_extension": ".py",
   "mimetype": "text/x-python",
   "name": "python",
   "nbconvert_exporter": "python",
   "pygments_lexer": "ipython3",
   "version": "3.7.6"
  }
 },
 "nbformat": 4,
 "nbformat_minor": 4
}
