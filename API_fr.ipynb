{
 "cells": [
  {
   "cell_type": "code",
   "execution_count": null,
   "metadata": {},
   "outputs": [],
   "source": [
    "import requests #nous en avons besoin pour l'API\n",
    "import json #nous en avons besoin pour mise en page de les reponses  \n",
    "from pprint import pprint #donc nous pouvons lire plus facile\n",
    "import time #pour le délai, donc nous ne faisons pas accabler l'API"
   ]
  },
  {
   "cell_type": "code",
   "execution_count": null,
   "metadata": {},
   "outputs": [],
   "source": [
    "#https://github.com/public-apis/public-apis/blob/master/README.md\n",
    "\n",
    "base_url = \"https://excuser.herokuapp.com/v1\"\n",
    "requests.get(base_url)"
   ]
  },
  {
   "cell_type": "code",
   "execution_count": null,
   "metadata": {},
   "outputs": [],
   "source": [
    "random_excuse = requests.get(base_url+\"/excuse\") #essayez une demande sur le point de terminaison \"excuse\""
   ]
  },
  {
   "cell_type": "code",
   "execution_count": null,
   "metadata": {},
   "outputs": [],
   "source": [
    "random_excuse.status_code #cela nous donne le code d'état de la demande"
   ]
  },
  {
   "cell_type": "code",
   "execution_count": null,
   "metadata": {},
   "outputs": [],
   "source": [
    "random_excuse.headers #cela nous donne les en-têtes de page de la demande"
   ]
  },
  {
   "cell_type": "code",
   "execution_count": null,
   "metadata": {},
   "outputs": [],
   "source": [
    "random_excuse.text #cela nous donne le texte des données"
   ]
  },
  {
   "cell_type": "code",
   "execution_count": null,
   "metadata": {},
   "outputs": [],
   "source": [
    "random_excuse.json() #voir les reponses"
   ]
  },
  {
   "cell_type": "code",
   "execution_count": null,
   "metadata": {},
   "outputs": [],
   "source": [
    "many_excuses = requests.get(base_url+\"/excuse/10\") ##essayez une demande sur le point de terminaison \"excuse\" avec un numéro\n",
    "many_excuses.json() #voir les reponses"
   ]
  },
  {
   "cell_type": "code",
   "execution_count": null,
   "metadata": {},
   "outputs": [],
   "source": [
    "#documentation: https://metmuseum.github.io/\n",
    "base_url_met = \"https://collectionapi.metmuseum.org/public/collection/v1\"\n",
    "ocean_obj = requests.get(base_url_met+\"/search?q=ocean&medium=Sculpture\") #essayez une demande avec des conditions\n",
    "ocean_obj.json() #voir les responses"
   ]
  },
  {
   "cell_type": "code",
   "execution_count": null,
   "metadata": {},
   "outputs": [],
   "source": [
    "search_cond = {'q' : 'ocean', 'medium' : 'Sculpture'}\n",
    "ocean_obj2 = requests.get(base_url_met+\"/search\", params=search_cond) \n",
    "#essayez une demande du point de terminaison /search avec plusieurs conditions sous forme de dictionnaire\n",
    "pprint(ocean_obj.json()) #voir les reponses"
   ]
  },
  {
   "cell_type": "code",
   "execution_count": null,
   "metadata": {},
   "outputs": [],
   "source": [
    "print(ocean_obj.url) #voir l'URL qui est utilisée dans la demandew"
   ]
  },
  {
   "cell_type": "code",
   "execution_count": null,
   "metadata": {},
   "outputs": [],
   "source": [
    "list_ids = ocean_obj.json()['objectIDs'] #créer une liste pour les \"ocean object\" ID's\n",
    "print(list_ids)"
   ]
  },
  {
   "cell_type": "code",
   "execution_count": null,
   "metadata": {},
   "outputs": [],
   "source": [
    "#créer un référentiel en spécifiant l'identifiant de l'objet et en obtenant des \n",
    "#informations à partir du point de terminaison /objects\n",
    "ocean_rep = {}\n",
    "for item in list_ids:\n",
    "    resp = requests.get(base_url_met+\"/objects/\"+str(item))\n",
    "    d= resp.json()\n",
    "    ocean_rep.update({(item, d['title']) : d})\n",
    "    print((item, d['title']))\n",
    "    time.sleep(1)"
   ]
  },
  {
   "cell_type": "code",
   "execution_count": null,
   "metadata": {},
   "outputs": [],
   "source": [
    "pprint(ocean_rep[(256403, 'Marble Statue Group of the Three Graces')]) #voir les informations pour un objet"
   ]
  },
  {
   "cell_type": "code",
   "execution_count": null,
   "metadata": {},
   "outputs": [],
   "source": []
  }
 ],
 "metadata": {
  "kernelspec": {
   "display_name": "Python 3",
   "language": "python",
   "name": "python3"
  },
  "language_info": {
   "codemirror_mode": {
    "name": "ipython",
    "version": 3
   },
   "file_extension": ".py",
   "mimetype": "text/x-python",
   "name": "python",
   "nbconvert_exporter": "python",
   "pygments_lexer": "ipython3",
   "version": "3.7.6"
  }
 },
 "nbformat": 4,
 "nbformat_minor": 4
}
