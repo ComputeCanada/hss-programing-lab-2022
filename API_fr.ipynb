{
 "cells": [
  {
   "cell_type": "markdown",
   "metadata": {},
   "source": [
    "# Accéder à un API Web\n",
    "* **API** est un acronyme anglais pour *interface de programmation d'application*.\n",
    "* **JSON** (*JavaScript Object Notation*) est un format de données sturcturées stockées sous une forme lisible."
   ]
  },
  {
   "cell_type": "code",
   "execution_count": null,
   "metadata": {},
   "outputs": [],
   "source": [
    "import requests  # Pour l'accès à l'API Web\n",
    "import json      # Pour la mise-en-page des reponses  \n",
    "from pprint import pprint  # Pour une lecture plus facile des résultats\n",
    "import time      # Pour nous imposer un délai, pour ne pas surcharger l'API"
   ]
  },
  {
   "cell_type": "markdown",
   "metadata": {},
   "source": [
    "Sur Internet, on retrouve plusieurs API publics :\n",
    "* https://github.com/public-apis/public-apis/blob/master/README.md\n",
    "  * L'une d'entre elles : https://excuser.herokuapp.com/"
   ]
  },
  {
   "cell_type": "code",
   "execution_count": null,
   "metadata": {},
   "outputs": [],
   "source": [
    "# Vérifions que le site Web fonctionne - on veut le code HTTP 200 (OK)\n",
    "base_url = \"https://excuser.herokuapp.com/v1\"\n",
    "requests.get(base_url)"
   ]
  },
  {
   "cell_type": "code",
   "execution_count": null,
   "metadata": {},
   "outputs": [],
   "source": [
    "# Allons chercher une excuse aléatoire - données en format JSON\n",
    "random_excuse = requests.get(base_url+\"/excuse\")"
   ]
  },
  {
   "cell_type": "code",
   "execution_count": null,
   "metadata": {},
   "outputs": [],
   "source": [
    "random_excuse.status_code  # Code d'état de la demande HTTP"
   ]
  },
  {
   "cell_type": "code",
   "execution_count": null,
   "metadata": {},
   "outputs": [],
   "source": [
    "random_excuse.headers  # Les en-têtes de page de la demande"
   ]
  },
  {
   "cell_type": "code",
   "execution_count": null,
   "metadata": {},
   "outputs": [],
   "source": [
    "random_excuse.text  # Les données textuelles"
   ]
  },
  {
   "cell_type": "code",
   "execution_count": null,
   "metadata": {},
   "outputs": [],
   "source": [
    "random_excuse.json()  # Voir les données interprétées en format JSON"
   ]
  },
  {
   "cell_type": "code",
   "execution_count": null,
   "metadata": {},
   "outputs": [],
   "source": [
    "# Allons chercher 10 excuses aléatoires\n",
    "many_excuses = requests.get(base_url+\"/excuse/10\")\n",
    "many_excuses.json()  # Voir les données interprétées en format JSON"
   ]
  },
  {
   "cell_type": "markdown",
   "metadata": {},
   "source": [
    "Allons maintenant essayer une autre API :\n",
    "* Documentation de l'API du Met : https://metmuseum.github.io/"
   ]
  },
  {
   "cell_type": "code",
   "execution_count": null,
   "metadata": {},
   "outputs": [],
   "source": [
    "base_url_met = \"https://collectionapi.metmuseum.org/public/collection/v1\"\n",
    "\n",
    "# Essayons une requête avec différents paramètres de recherche\n",
    "ocean_obj = requests.get(base_url_met+\"/search?q=ocean&medium=Sculpture\")\n",
    "ocean_obj.json()  # Voir les réponses"
   ]
  },
  {
   "cell_type": "markdown",
   "metadata": {},
   "source": [
    "Il existe une façon plus sécuritaire d'envoyer des paramètres à la requête HTTP :"
   ]
  },
  {
   "cell_type": "code",
   "execution_count": null,
   "metadata": {},
   "outputs": [],
   "source": [
    "# Créer un dictionnaire Python avec des paires \"paramètre:valeur\"\n",
    "search_cond = {'q': 'ocean', 'medium': 'Sculpture'}\n",
    "\n",
    "# Envoyer la requête de recherche à l'aide du dictionnaire de paramètres\n",
    "ocean_obj2 = requests.get(base_url_met+\"/search\", params=search_cond) \n",
    "pprint(ocean_obj2.json())  # Voir les réponses avec pprint()"
   ]
  },
  {
   "cell_type": "code",
   "execution_count": null,
   "metadata": {},
   "outputs": [],
   "source": [
    "print(ocean_obj2.url)  # Voir l'URL qui est utilisée dans la requête"
   ]
  },
  {
   "cell_type": "code",
   "execution_count": null,
   "metadata": {},
   "outputs": [],
   "source": [
    "# Puisque les données JSON sont comme un dictionnaire,\n",
    "# nous pouvons accéder à la liste des identifiants d'objets de type \"ocean\"\n",
    "list_ids = ocean_obj2.json()['objectIDs']\n",
    "print(list_ids)"
   ]
  },
  {
   "cell_type": "code",
   "execution_count": null,
   "metadata": {},
   "outputs": [],
   "source": [
    "# Création d'un dictionnaire contenant les données de certains objets \"ocean\"\n",
    "ocean_rep = {}\n",
    "\n",
    "for item in sorted(list_ids)[13:42]:\n",
    "    # Envoyer une requête pour un objet spécifique avec /objects/No_item\n",
    "    reponse = requests.get(base_url_met+\"/objects/\"+str(item))\n",
    "    d = reponse.json()\n",
    "\n",
    "    # Sauvegarder la structure de données JSON en l'identifiant\n",
    "    # d'un tuple composé du numéro de l'item et du titre de l'objet\n",
    "    ocean_rep.update({(item, d['title']) : d})\n",
    "\n",
    "    # Affichage du tuple et pause de 1 seconde (important!)\n",
    "    print((item, d['title']))\n",
    "    time.sleep(1)\n",
    "\n",
    "print('Terminé')"
   ]
  },
  {
   "cell_type": "code",
   "execution_count": null,
   "metadata": {},
   "outputs": [],
   "source": [
    "# Voir les informations pour un objet\n",
    "pprint(ocean_rep[(256403, 'Marble Statue Group of the Three Graces')])"
   ]
  },
  {
   "cell_type": "code",
   "execution_count": null,
   "metadata": {},
   "outputs": [],
   "source": []
  }
 ],
 "metadata": {
  "kernelspec": {
   "display_name": "Python 3 (ipykernel)",
   "language": "python",
   "name": "python3"
  },
  "language_info": {
   "codemirror_mode": {
    "name": "ipython",
    "version": 3
   },
   "file_extension": ".py",
   "mimetype": "text/x-python",
   "name": "python",
   "nbconvert_exporter": "python",
   "pygments_lexer": "ipython3",
   "version": "3.8.10"
  }
 },
 "nbformat": 4,
 "nbformat_minor": 4
}
