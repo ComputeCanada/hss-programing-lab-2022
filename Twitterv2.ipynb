{
 "cells": [
  {
   "cell_type": "code",
   "execution_count": 2,
   "metadata": {},
   "outputs": [],
   "source": [
    "import requests\n",
    "import os\n",
    "import json\n",
    "import pandas as pd"
   ]
  },
  {
   "cell_type": "code",
   "execution_count": 16,
   "metadata": {},
   "outputs": [],
   "source": [
    "#This is the cell where you need to set up your authentication, so the API doesn't block you\n",
    "os.environ['BEARER_TOKEN'] = 'putyourbearertokenhere'\n",
    "bearer_token = os.environ.get(\"BEARER_TOKEN\")"
   ]
  },
  {
   "cell_type": "code",
   "execution_count": 17,
   "metadata": {},
   "outputs": [],
   "source": [
    "#this is the cell where you put in your endpoint and figure out what fields you want to query. The current endpoint setting is to search recent tweets\n",
    "\n",
    "search_url = \"https://api.twitter.com/2/tweets/search/recent\"\n",
    "\n",
    "# Optional params: start_time,end_time,since_id,until_id,max_results,next_token,\n",
    "# expansions,tweet.fields,media.fields,poll.fields,place.fields,user.fields\n",
    "query_params = {'query': '#WorldCupQualifiers #Canada (ice OR cold OR frozen OR snow OR shiver OR freeze OR freezing OR weather) ',\n",
    "'tweet.fields': 'author_id', 'max_results': 50}\n",
    "\n",
    "output_file = \"C:/Users/lydia/Documents/ACENET/tweets2.csv\"  #put the file name and path where you want to save your tweets to here"
  
