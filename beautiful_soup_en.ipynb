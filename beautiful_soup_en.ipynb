{
 "cells": [
  {
   "cell_type": "code",
   "execution_count": null,
   "metadata": {},
   "outputs": [],
   "source": [
    "import requests\n",
    "import re\n",
    "import csv\n",
    "from bs4 import BeautifulSoup\n"
   ]
  },
  {
   "cell_type": "code",
   "execution_count": 7,
   "metadata": {},
   "outputs": [],
   "source": [
    "URL = 'https://scrapethissite.com/pages/simple/'   #set link for the page we are scraping\n",
    "page = requests.get(URL)    #pulling the html page through the URL. THIS IS THE MAKING A REQUEST PART THAT WE CAN'T DO TOO OFTEN (more than 1/second)\n",
    "soup = BeautifulSoup(page.content, 'html.parser') #make the soup"
   ]
  },
  {
   "cell_type": "code",
   "execution_count": null,
   "metadata": {},
   "outputs": [],
   "source": [
    "print(soup.prettify()) #look at the pretty soup"
   ]
  },
  {
   "cell_type": "code",
   "execution_count": null,
   "metadata": {},
   "outputs": [],
   "source": [
    "country_info_test = soup.find('div', attrs={'class' : 'col-md-4 country'})   #find the chunk of data for one country\n",
    "print(country_info_test.prettify()) #look at it"
   ]
  },
  {
   "cell_type": "code",
   "execution_count": 9,
   "metadata": {},
   "outputs": [
    {
     "name": "stdout",
     "output_type": "stream",
     "text": [
      "country name is: Andorra country population is: 84000\n"
     ]
    }
   ],
   "source": [
    "country_name_test = country_info_test.find('h3', class_=\"country-name\")  #find the country name for one country\n",
    "country_pop_test = country_info_test.find('span', class_=\"country-population\") #find the country population for one country\n",
    "print(\"country name is:\", country_name_test.text.strip(), \"country population is:\", country_pop_test.text)  #look at it, but strip away the tags so its text only\n"
   ]
  },
  {
   "cell_type": "code",
   "execution_count": null,
   "metadata": {},
   "outputs": [],
   "source": [
    "country_info = soup.find_all('div', class_=\"col-md-4 country\") #make list of all the individual chunks of data for each country\n",
    "print(country_info)   #look at it"
   ]
  },
  {
   "cell_type": "code",
   "execution_count": null,
   "metadata": {},
   "outputs": [],
   "source": [
    "for country in country_info:  #create a for loop to extract the data we need from each \"country chunk\" in the list\n",
    "    country_name = country.find('h3', class_=\"country-name\")  #extract the country name during each loop\n",
    "    country_pop = country.find('span', class_=\"country-population\")   #extract the country population during each loop\n",
    "    print(country_name.text, country_pop.text.strip()) #look at it, but again strip it down so its only the text"
   ]
  },
  {
   "cell_type": "code",
   "execution_count": null,
   "metadata": {},
   "outputs": [],
   "source": [
    "file = open(\"country_names_and_populations.csv\", \"w\", newline=\"\") #create the csv file, we are going to write to it, and we don't want any extra blank rows.\n",
    "writer=csv.writer(file)  #create a writer object so we can use writerow commands\n",
    "writer.writerow([\"Country_Name\", \"Country_population\"]) #Write column headers as the first line\n",
    "\n",
    "for country in country_info: #create a for loop to extract the data we need from each \"country chunk\" in the list\n",
    "    country_name = country.find('h3', class_=\"country-name\") #extract the country name during each loop\n",
    "    country_pop = country.find('span', class_=\"country-population\") #extract the country population during each loop\n",
    "    writer.writerow([country_name.text.strip(), country_pop.text.strip()]) #write the results of each loop iteration as a row in the csv file\n",
    "file.close()\n",
    "    "
   ]
  },
  {
   "cell_type": "code",
   "execution_count": null,
   "metadata": {},
   "outputs": [],
   "source": []
  }
 ],
 "metadata": {
  "kernelspec": {
   "display_name": "Python 3",
   "language": "python",
   "name": "python3"
  },
  "language_info": {
   "codemirror_mode": {
    "name": "ipython",
    "version": 3
   },
   "file_extension": ".py",
   "mimetype": "text/x-python",
   "name": "python",
   "nbconvert_exporter": "python",
   "pygments_lexer": "ipython3",
   "version": "3.7.6"
  }
 },
 "nbformat": 4,
 "nbformat_minor": 4
}
