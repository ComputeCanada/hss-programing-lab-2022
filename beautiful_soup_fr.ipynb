{
 "cells": [
  {
   "cell_type": "code",
   "execution_count": null,
   "metadata": {},
   "outputs": [],
   "source": [
    "import requests\n",
    "import re\n",
    "import csv\n",
    "from bs4 import BeautifulSoup"
   ]
  },
  {
   "cell_type": "markdown",
   "metadata": {},
   "source": [
    "## Moissonnage d'une page \"simple\"\n",
    "* La page en question : https://www.scrapethissite.com/pages/simple/"
   ]
  },
  {
   "cell_type": "code",
   "execution_count": null,
   "metadata": {},
   "outputs": [],
   "source": [
    "# Le lien vers la page Web à moissonner\n",
    "URL = 'https://scrapethissite.com/pages/simple/'\n",
    "\n",
    "# Télécharger le contenu HTML via l'URL\n",
    "# IMPORTANT - NE PAS EXÉCUTER get() TROP SOUVENT (plus de 1x/seconde)\n",
    "page = requests.get(URL)\n",
    "\n",
    "# Créer la \"soupe\"\n",
    "soup = BeautifulSoup(page.content, 'html.parser') "
   ]
  },
  {
   "cell_type": "code",
   "execution_count": null,
   "metadata": {},
   "outputs": [],
   "source": [
    "# Afficher une version plus jolie de la \"soupe\"\n",
    "print(soup.prettify())"
   ]
  },
  {
   "cell_type": "code",
   "execution_count": null,
   "metadata": {},
   "outputs": [],
   "source": [
    "# Trouver un premier bloc de données d'un pays\n",
    "country_info_test = soup.find('div', attrs={'class' : 'col-md-4 country'})\n",
    "\n",
    "# Inspecter ce bloc de données\n",
    "print(country_info_test.prettify())"
   ]
  },
  {
   "cell_type": "code",
   "execution_count": null,
   "metadata": {},
   "outputs": [],
   "source": [
    "# Extraire le nom du pays\n",
    "country_name_test = country_info_test.find('h3', class_=\"country-name\")\n",
    "\n",
    "# Extraire la population du pays\n",
    "country_pop_test = country_info_test.find('span', class_=\"country-population\")\n",
    "\n",
    "# Afficher les résultats sans les balises (tags) HTML\n",
    "print(\"Le nom du pays est :\", country_name_test.text.strip())\n",
    "print(\"La population du pays est :\", country_pop_test.text)"
   ]
  },
  {
   "cell_type": "code",
   "execution_count": null,
   "metadata": {},
   "outputs": [],
   "source": [
    "# Créer une liste de tous les blocs de données des différents pays\n",
    "country_info = soup.find_all('div', class_=\"col-md-4 country\")\n",
    "\n",
    "# Aperçu de la liste\n",
    "print(country_info)"
   ]
  },
  {
   "cell_type": "code",
   "execution_count": null,
   "metadata": {},
   "outputs": [],
   "source": [
    "# Pour chaque bloc de données de pays\n",
    "for country in country_info:\n",
    "    # Extraire le nom du pays\n",
    "    country_name = country.find('h3', class_=\"country-name\")\n",
    "    # Extraire la population du pays\n",
    "    country_pop = country.find('span', class_=\"country-population\")\n",
    "    # Afficher le nom et la population du pays\n",
    "    print(country_name.text, country_pop.text.strip())"
   ]
  },
  {
   "cell_type": "code",
   "execution_count": null,
   "metadata": {},
   "outputs": [],
   "source": [
    "# Ouvrir un fichier CSV en mode écriture, création automatique du fichier\n",
    "file = open(\"country_names_and_populations.csv\", \"w\", newline=\"\")\n",
    "\n",
    "# Créer un objet \"writer\" afin d'utiliser sa méthode writerow()\n",
    "writer = csv.writer(file)\n",
    "\n",
    "# Écrire les entêtes de colonne en première ligne du fichier CSV\n",
    "writer.writerow([\"Country_Name\", \"Country_population\"])\n",
    "\n",
    "# Pour chaque bloc de données de pays\n",
    "for country in country_info:\n",
    "    # Extraire le nom du pays\n",
    "    country_name = country.find('h3', class_=\"country-name\")\n",
    "    # Extraire la population du pays\n",
    "    country_pop = country.find('span', class_=\"country-population\")\n",
    "\n",
    "    # Écrire le nom et la population du pays sous la forme d'une ligne CSV\n",
    "    writer.writerow([country_name.text.strip(), country_pop.text.strip()])\n",
    "\n",
    "# Fermer le fichier CSV\n",
    "file.close()"
   ]
  }
 ],
 "metadata": {
  "kernelspec": {
   "display_name": "Python 3 (ipykernel)",
   "language": "python",
   "name": "python3"
  },
  "language_info": {
   "codemirror_mode": {
    "name": "ipython",
    "version": 3
   },
   "file_extension": ".py",
   "mimetype": "text/x-python",
   "name": "python",
   "nbconvert_exporter": "python",
   "pygments_lexer": "ipython3",
   "version": "3.8.10"
  }
 },
 "nbformat": 4,
 "nbformat_minor": 4
}
