{
 "cells": [
  {
   "cell_type": "code",
   "execution_count": null,
   "metadata": {},
   "outputs": [],
   "source": [
    "import requests\n",
    "import re\n",
    "import csv\n",
    "from bs4 import BeautifulSoup\n"
   ]
  },
  {
   "cell_type": "code",
   "execution_count": null,
   "metadata": {},
   "outputs": [],
   "source": [
    "# voir le site web ici : https://www.scrapethissite.com/pages/simple/\n",
    "URL = 'https://scrapethissite.com/pages/simple/'   #le ligne pour le site web nous voulons moissonager\n",
    "page = requests.get(URL)    #pull la page html via l'URL. C'EST LA PARTIE FAIRE UNE DEMANDE QUE NOUS NE POUVONS PAS FAIRE TROP SOUVENT (plus de 1/seconde)\n",
    "soup = BeautifulSoup(page.content, 'html.parser') #faire la \"soupe\""
   ]
  },
  {
   "cell_type": "code",
   "execution_count": null,
   "metadata": {},
   "outputs": [],
   "source": [
    "print(soup.prettify()) #regarder la joile soupe"
   ]
  },
  {
   "cell_type": "code",
   "execution_count": null,
   "metadata": {},
   "outputs": [],
   "source": [
    "country_info_test = soup.find('div', attrs={'class' : 'col-md-4 country'})   #trouver le bloc de données pour un pays\n",
    "print(country_info_test.prettify()) #regarde ça"
   ]
  },
  {
   "cell_type": "code",
   "execution_count": null,
   "metadata": {},
   "outputs": [],
   "source": [
    "country_name_test = country_info_test.find('h3', class_=\"country-name\")  #trouver le nom d'un pays\n",
    "country_pop_test = country_info_test.find('span', class_=\"country-population\") #trouver la population d'un pays\n",
    "print(\"le nom de le pays est:\", country_name_test.text.strip(), \"la population de la pays est:\", country_pop_test.text) #regarder, mais suprimer les \"tags\"\n",
    "  \n"
   ]
  },
  {
   "cell_type": "code",
   "execution_count": null,
   "metadata": {},
   "outputs": [],
   "source": [
    "country_info = soup.find_all('div', class_=\"col-md-4 country\") #créer une liste de tous les blocs de données pour chaque pays\n",
    "print(country_info)   #regarde ça"
   ]
  },
  {
   "cell_type": "code",
   "execution_count": null,
   "metadata": {},
   "outputs": [],
   "source": [
    "for country in country_info:  #créer un \"for loop\" pour récupérer les donnée de les bloc pour chaque pays\n",
    "    country_name = country.find('h3', class_=\"country-name\")  #récupérer le nom de pays\n",
    "    country_pop = country.find('span', class_=\"country-population\")   #récupérer la population d'un pays\n",
    "    print(country_name.text, country_pop.text.strip()) #regarde ça"
   ]
  },
  {
   "cell_type": "code",
   "execution_count": null,
   "metadata": {},
   "outputs": [],
   "source": [
    "file = open(\"country_names_and_populations.csv\", \"w\", newline=\"\") #créez le fichier csv, nous allons y écrire\n",
    "writer=csv.writer(file)  ##créer un objet \"writer\" afin que nous puissions utiliser les commandes \"writerow\"\n",
    "writer.writerow([\"Country_Name\", \"Country_population\"]) #Écrivez les en-têtes de colonne comme première ligne\n",
    "\n",
    "for country in country_info: #créer une \"for loop\" pour écrire les données dans le fichier csv\n",
    "    country_name = country.find('h3', class_=\"country-name\") #récupérer le nom de pays\n",
    "    country_pop = country.find('span', class_=\"country-population\") #récupérer la population d'un pays\n",
    "    writer.writerow([country_name.text.strip(), country_pop.text.strip()]) #écrire les résultats de chaque itération sous forme de ligne dans le fichier csv\n",
    "file.close()\n",
    "    "
   ]
  }
 ],
 "metadata": {
  "kernelspec": {
   "display_name": "Python 3",
   "language": "python",
   "name": "python3"
  },
  "language_info": {
   "codemirror_mode": {
    "name": "ipython",
    "version": 3
   },
   "file_extension": ".py",
   "mimetype": "text/x-python",
   "name": "python",
   "nbconvert_exporter": "python",
   "pygments_lexer": "ipython3",
   "version": "3.7.6"
  }
 },
 "nbformat": 4,
 "nbformat_minor": 4
}
